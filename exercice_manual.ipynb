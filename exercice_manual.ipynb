{
 "cells": [
  {
   "cell_type": "markdown",
   "metadata": {},
   "source": [
    "exercice to learn crystallography"
   ]
  },
  {
   "cell_type": "code",
   "execution_count": 19,
   "metadata": {},
   "outputs": [],
   "source": [
    "import numpy as np"
   ]
  },
  {
   "cell_type": "code",
   "execution_count": 20,
   "metadata": {},
   "outputs": [],
   "source": [
    "#MATERIAL PARAMETERS\n",
    "#Lattice parameter\n",
    "a = 0.3306  # in nm\n",
    "\n",
    "#Miller indices\n",
    "h = 0\n",
    "k = 1\n",
    "l = 1\n",
    "\n",
    "#Considered grain Euler angles in radians\n",
    "phi1 = np.radians(103.517)\n",
    "PHI = np.radians(42.911)\n",
    "phi2 = np.radians(266.452)"
   ]
  },
  {
   "cell_type": "code",
   "execution_count": 21,
   "metadata": {},
   "outputs": [
    {
     "name": "stdout",
     "output_type": "stream",
     "text": [
      "0.04133333333333333\n"
     ]
    }
   ],
   "source": [
    "#Experimental parameters\n",
    "Lambda_kev = 30 #in keV\n",
    "Lambda_nm = 1.24/Lambda_kev #(1keV <=> 1.24nm) in nm \n",
    "print(Lambda_nm)"
   ]
  },
  {
   "cell_type": "code",
   "execution_count": 22,
   "metadata": {},
   "outputs": [
    {
     "name": "stdout",
     "output_type": "stream",
     "text": [
      "0.2337695018602726\n"
     ]
    }
   ],
   "source": [
    "#Interreticular distance \n",
    "dhkl = a/np.sqrt(np.square(h)+np.square(k)+np.square(l)) #in nm\n",
    "print(dhkl)"
   ]
  },
  {
   "cell_type": "code",
   "execution_count": 23,
   "metadata": {},
   "outputs": [
    {
     "name": "stdout",
     "output_type": "stream",
     "text": [
      "5.071921926301915\n"
     ]
    }
   ],
   "source": [
    "#Expected theta obtainable with pymicro or manually\n",
    "theta = np.degrees(np.arcsin(Lambda_nm/(2*dhkl))) # in degrees\n",
    "print(theta)"
   ]
  },
  {
   "cell_type": "code",
   "execution_count": 24,
   "metadata": {},
   "outputs": [],
   "source": [
    "#Coefficients for matrix g\n",
    "c1 = np.cos(phi1)\n",
    "c2 = np.cos(phi2)\n",
    "s1 = np.sin(phi1)\n",
    "s2 = np.sin(phi2)\n",
    "c = np.cos(PHI)\n",
    "s = np.sin(PHI)\n"
   ]
  },
  {
   "cell_type": "code",
   "execution_count": 25,
   "metadata": {},
   "outputs": [
    {
     "name": "stdout",
     "output_type": "stream",
     "text": [
      "[[ 0.72522445  0.11069087 -0.67955649]\n",
      " [-0.18921622  0.98103102 -0.04213492]\n",
      " [ 0.66200205  0.15914039  0.7324122 ]]\n"
     ]
    }
   ],
   "source": [
    "g = np.array([[c1*c2-s1*s2*c , s1*c2+c1*s2*c , s2*s],[-c1*s2-s1*c2*c , -s1*s2+c1*c2*c , c2*s],[s1*s , -c1*s , c]])\n",
    "print (g)"
   ]
  },
  {
   "cell_type": "code",
   "execution_count": 26,
   "metadata": {},
   "outputs": [
    {
     "name": "stdout",
     "output_type": "stream",
     "text": [
      "1.4300841637935757\n",
      "-3.448794343258281\n",
      "-0.37817666876859707\n"
     ]
    }
   ],
   "source": [
    "#Coefficients of Bragg diffraction condition.\n",
    "#CAUTION: In the presentation slides there is a coefficient difference: all coefficients must be divided/\n",
    "#by lattice parameter \"a\" to return the same result that in Pymicro :)\n",
    "#However it does not change anything for the end result because it leads to the same equation to solve\n",
    "\n",
    "\n",
    "#Also in Pymicro \"C\" is defined with np.rad(theta) which assumes that theta is in radians. But theta is in degrees/\n",
    "#Why does it lead to the same result with this in mind?\n",
    "\n",
    "A = (h*(c1*c2 - s1*s2*c) + k*(-c1*s2 - s1*c2*c) + l*(s1*s))/a\n",
    "B = (-h*(s1*c2 - c1*s2*c) - k*(-s1*s2 + c1*c2*c) - l*(-c1*s))/a\n",
    "C = -(2*np.sin(np.radians(theta))**2)/Lambda_nm\n",
    "\n",
    "print(A)\n",
    "print(B)\n",
    "print(C)"
   ]
  },
  {
   "cell_type": "code",
   "execution_count": 27,
   "metadata": {},
   "outputs": [
    {
     "name": "stdout",
     "output_type": "stream",
     "text": [
      "-3.933571710347143\n",
      "-2.8399761194329725\n",
      "-3.449\n"
     ]
    }
   ],
   "source": [
    "B = (-h*(s1*c2 - c1*s2*c) - k*(-s1*s2 + c1*s2*c) - l*(-c1*s))/a\n",
    "Bpymicro_code = -h / a * g[1, 0] - k / a * g[1, 1] - l / a * g[1, 2]\n",
    "Bpymicro_out = -3.449\n",
    "\n",
    "print(B)\n",
    "print(Bpymicro_code)\n",
    "print(Bpymicro_out)"
   ]
  },
  {
   "cell_type": "code",
   "execution_count": 28,
   "metadata": {},
   "outputs": [],
   "source": [
    "#A and C match exactly with Pymicro values now\n",
    "#PROBLEM: B does not match exactly: As per Pymicro it is expected to return -3.449!!!!"
   ]
  },
  {
   "cell_type": "code",
   "execution_count": 29,
   "metadata": {},
   "outputs": [],
   "source": [
    "#Second order equation coefficients after variable change\n",
    "coeffs = np.array([A+C , -2*B , C-A])\n"
   ]
  },
  {
   "cell_type": "code",
   "execution_count": 30,
   "metadata": {},
   "outputs": [
    {
     "name": "stdout",
     "output_type": "stream",
     "text": [
      "[-7.70212009  0.22318923]\n"
     ]
    }
   ],
   "source": [
    "#Solve second order equation\n",
    "t_array = np.roots(coeffs) \n",
    "print (t_array) "
   ]
  },
  {
   "cell_type": "code",
   "execution_count": 31,
   "metadata": {},
   "outputs": [
    {
     "name": "stdout",
     "output_type": "stream",
     "text": [
      "194.795160817413 25.16319042360299\n"
     ]
    }
   ],
   "source": [
    "#Obtained angles w1 and w2 are angles of the sample fir a given grain.\n",
    "#CAUTION: In general those angles are not 180° from each other.\n",
    "#It is only true is a very specific grains orientations \n",
    "#(make a drawing for instance of a grain in topotomographic configuration)\n",
    "#It must not be confused with the Friedel pairs angles. A grain will always diffract for 2 180° angles for a given plane if we follow one grain \n",
    "w1 = 2*np.degrees(np.arctan(t_array[0]))\n",
    "w2 = 2*np.degrees(np.arctan(t_array[1]))\n",
    "print(w1%360,w2)"
   ]
  },
  {
   "cell_type": "code",
   "execution_count": 32,
   "metadata": {},
   "outputs": [
    {
     "name": "stdout",
     "output_type": "stream",
     "text": [
      "69.50043809270242\n"
     ]
    }
   ],
   "source": [
    "#Brute force method to solve equation with pymicro approach\n",
    "\n",
    "Delta = (2*B)**2 - 4*(A+C)*(C-A)\n",
    "print(Delta)"
   ]
  },
  {
   "cell_type": "code",
   "execution_count": 35,
   "metadata": {},
   "outputs": [],
   "source": [
    "a=1/2*(phi1-phi2)\n",
    "b=1/2*(phi1+phi2)"
   ]
  },
  {
   "cell_type": "code",
   "execution_count": 36,
   "metadata": {},
   "outputs": [
    {
     "name": "stdout",
     "output_type": "stream",
     "text": [
      "[-0.05582894  0.38985503  0.08721607]\n"
     ]
    }
   ],
   "source": [
    "RRodrigues = np.array([np.tan((PHI/2)*(np.cos(a)/np.cos(b))) , np.tan((PHI/2)*(np.sin(a)/np.cos(b)))  , np.tan(b)])\n",
    "print (RRodrigues)"
   ]
  },
  {
   "cell_type": "code",
   "execution_count": 38,
   "metadata": {},
   "outputs": [
    {
     "name": "stdout",
     "output_type": "stream",
     "text": [
      "[array([-0.13840495,  0.96648565,  0.21621648]) 0.7668229506405789]\n"
     ]
    }
   ],
   "source": [
    "RRodriguesFranck = np.array([(1/np.linalg.norm(RRodrigues))*RRodrigues,2*np.arctan(np.linalg.norm(RRodrigues))])\n",
    "print (RRodriguesFranck)"
   ]
  },
  {
   "cell_type": "code",
   "execution_count": null,
   "metadata": {},
   "outputs": [],
   "source": []
  }
 ],
 "metadata": {
  "kernelspec": {
   "display_name": "Python 3",
   "language": "python",
   "name": "python3"
  },
  "language_info": {
   "codemirror_mode": {
    "name": "ipython",
    "version": 3
   },
   "file_extension": ".py",
   "mimetype": "text/x-python",
   "name": "python",
   "nbconvert_exporter": "python",
   "pygments_lexer": "ipython3",
   "version": "3.7.4"
  }
 },
 "nbformat": 4,
 "nbformat_minor": 2
}
