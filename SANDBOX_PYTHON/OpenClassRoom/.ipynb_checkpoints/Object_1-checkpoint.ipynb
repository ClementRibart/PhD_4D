{
 "cells": [
  {
   "cell_type": "code",
   "execution_count": 9,
   "metadata": {},
   "outputs": [
    {
     "name": "stdout",
     "output_type": "stream",
     "text": [
      "Tapez 'Q' pour quitter...\n",
      "q\n",
      "Merci !\n"
     ]
    }
   ],
   "source": [
    "chaine = str() # Crée une chaîne vide de la classe str\n",
    "# On aurait obtenu le même résultat en tapant chaine = \"\"\n",
    "\n",
    "while chaine.lower() != \"q\":\n",
    "    print(\"Tapez 'Q' pour quitter...\")\n",
    "    chaine = input() #Avec input le code nous demande d'écrire quelquechose pour passer à la prochaine étape\n",
    "\n",
    "print(\"Merci !\")"
   ]
  },
  {
   "cell_type": "code",
   "execution_count": null,
   "metadata": {},
   "outputs": [],
   "source": [
    "print(chaine)"
   ]
  },
  {
   "cell_type": "code",
   "execution_count": 14,
   "metadata": {},
   "outputs": [],
   "source": [
    "def afficher_flottant(flottant):\n",
    "    \"\"\"Fonction prenant en paramètre un flottant et renvoyant une chaîne de caractères représentant la troncature de ce nombre. La partie flottante doit avoir une longueur maximum de 3 caractères.\n",
    "\n",
    "    De plus, on va remplacer le point décimal par la virgule\"\"\"\n",
    "    \n",
    "    if type(flottant) is not float:\n",
    "        raise TypeError(\"Le paramètre attendu doit être un flottant\")\n",
    "    flottant = str(flottant)\n",
    "    partie_entiere, partie_flottante = flottant.split(\".\")\n",
    "    # La partie entière n'est pas à modifier\n",
    "    # Seule la partie flottante doit être tronquée\n",
    "    return \",\".join([partie_entiere, partie_flottante[0:2]])"
   ]
  },
  {
   "cell_type": "code",
   "execution_count": 18,
   "metadata": {},
   "outputs": [
    {
     "ename": "TypeError",
     "evalue": "Le paramètre attendu doit être un flottant",
     "output_type": "error",
     "traceback": [
      "\u001b[0;31m---------------------------------------------------------------------------\u001b[0m",
      "\u001b[0;31mTypeError\u001b[0m                                 Traceback (most recent call last)",
      "\u001b[0;32m<ipython-input-18-79c655f3931f>\u001b[0m in \u001b[0;36m<module>\u001b[0;34m\u001b[0m\n\u001b[0;32m----> 1\u001b[0;31m \u001b[0mafficher_flottant\u001b[0m\u001b[0;34m(\u001b[0m\u001b[0;36m7\u001b[0m\u001b[0;34m)\u001b[0m\u001b[0;34m\u001b[0m\u001b[0;34m\u001b[0m\u001b[0m\n\u001b[0m",
      "\u001b[0;32m<ipython-input-14-1480009e00ce>\u001b[0m in \u001b[0;36mafficher_flottant\u001b[0;34m(flottant)\u001b[0m\n\u001b[1;32m      5\u001b[0m \u001b[0;34m\u001b[0m\u001b[0m\n\u001b[1;32m      6\u001b[0m     \u001b[0;32mif\u001b[0m \u001b[0mtype\u001b[0m\u001b[0;34m(\u001b[0m\u001b[0mflottant\u001b[0m\u001b[0;34m)\u001b[0m \u001b[0;32mis\u001b[0m \u001b[0;32mnot\u001b[0m \u001b[0mfloat\u001b[0m\u001b[0;34m:\u001b[0m\u001b[0;34m\u001b[0m\u001b[0;34m\u001b[0m\u001b[0m\n\u001b[0;32m----> 7\u001b[0;31m         \u001b[0;32mraise\u001b[0m \u001b[0mTypeError\u001b[0m\u001b[0;34m(\u001b[0m\u001b[0;34m\"Le paramètre attendu doit être un flottant\"\u001b[0m\u001b[0;34m)\u001b[0m\u001b[0;34m\u001b[0m\u001b[0;34m\u001b[0m\u001b[0m\n\u001b[0m\u001b[1;32m      8\u001b[0m     \u001b[0mflottant\u001b[0m \u001b[0;34m=\u001b[0m \u001b[0mstr\u001b[0m\u001b[0;34m(\u001b[0m\u001b[0mflottant\u001b[0m\u001b[0;34m)\u001b[0m\u001b[0;34m\u001b[0m\u001b[0;34m\u001b[0m\u001b[0m\n\u001b[1;32m      9\u001b[0m     \u001b[0mpartie_entiere\u001b[0m\u001b[0;34m,\u001b[0m \u001b[0mpartie_flottante\u001b[0m \u001b[0;34m=\u001b[0m \u001b[0mflottant\u001b[0m\u001b[0;34m.\u001b[0m\u001b[0msplit\u001b[0m\u001b[0;34m(\u001b[0m\u001b[0;34m\".\"\u001b[0m\u001b[0;34m)\u001b[0m\u001b[0;34m\u001b[0m\u001b[0;34m\u001b[0m\u001b[0m\n",
      "\u001b[0;31mTypeError\u001b[0m: Le paramètre attendu doit être un flottant"
     ]
    }
   ],
   "source": [
    "afficher_flottant(7)"
   ]
  },
  {
   "cell_type": "code",
   "execution_count": 25,
   "metadata": {},
   "outputs": [],
   "source": [
    "#Méthode perso avec même résultat que \"afficher_flottant\" mais en moins élégant: Plus d'étapes\\\n",
    "#et d'éléments intermédiaires non nécessaires\n",
    "def afficher_flottant_2(nombre_flottant):\n",
    "    chaine_flottant = str(nombre_flottant)\n",
    "    liste_1 = chaine_flottant.split(\".\")\n",
    "    partie_entière = liste_1[0]\n",
    "    partie_flottante = liste_1[1]\n",
    "    liste_2 = (partie_entière,partie_flottante[0:3])\n",
    "    resultat = \",\".join(liste_2)\n",
    "    return (resultat)"
   ]
  },
  {
   "cell_type": "code",
   "execution_count": 26,
   "metadata": {},
   "outputs": [
    {
     "data": {
      "text/plain": [
       "'3,999'"
      ]
     },
     "execution_count": 26,
     "metadata": {},
     "output_type": "execute_result"
    }
   ],
   "source": [
    "afficher_flottant_2(3.99999)"
   ]
  },
  {
   "cell_type": "code",
   "execution_count": null,
   "metadata": {},
   "outputs": [],
   "source": []
  }
 ],
 "metadata": {
  "kernelspec": {
   "display_name": "Python 3",
   "language": "python",
   "name": "python3"
  }
 },
 "nbformat": 4,
 "nbformat_minor": 2
}
