{
 "cells": [
  {
   "cell_type": "code",
   "execution_count": 1,
   "metadata": {},
   "outputs": [
    {
     "name": "stdout",
     "output_type": "stream",
     "text": [
      "[[1 2 4]\n",
      " [5 3 7]\n",
      " [8 3 6]]\n",
      "[1 2 3 4 5 6 7 8]\n",
      "\n",
      "B= [[3 7]\n",
      " [3 6]]\n",
      "\n",
      "List= (array([0, 1]), array([0, 0]))\n",
      "<class 'tuple'>\n",
      "\n",
      "List= (array([], dtype=int64),)\n",
      "<class 'tuple'>\n",
      "\n",
      "ListOfCoordinates= [(0, 0), (1, 0)]\n",
      "<class 'list'>\n",
      "\n",
      "########################### FOR INFORMATION ###########################\n",
      "ListArray= [[0 0]\n",
      " [1 0]]\n",
      "<class 'numpy.ndarray'>\n",
      "\n",
      "ListArray_row0= [0 0]\n",
      "<class 'numpy.ndarray'>\n",
      "ListArray_row0[0]= 0\n",
      "<class 'numpy.int64'>\n",
      "\n",
      "x= [3 6]\n",
      "<class 'numpy.ndarray'>\n",
      "\n",
      "y= 6\n",
      "<class 'numpy.int64'>\n",
      "\n",
      "z= [[3 6]\n",
      " [3 6]]\n",
      "<class 'numpy.ndarray'>\n",
      "\n",
      "#####################################################################\n",
      "\n",
      "w= 6\n",
      "<class 'numpy.int64'>\n",
      "\n",
      "C= [[0 0]\n",
      " [0 0]]\n",
      "C= [[1 0]\n",
      " [1 0]]\n",
      "B= [[3 7]\n",
      " [3 6]]\n"
     ]
    },
    {
     "name": "stderr",
     "output_type": "stream",
     "text": [
      "/home/zebulon/anaconda3/lib/python3.7/site-packages/ipykernel_launcher.py:28: DeprecationWarning: elementwise comparison failed; this will raise an error in the future.\n"
     ]
    }
   ],
   "source": [
    "import numpy as np\n",
    "\n",
    "A = np.array([(1,2,4),(5,3,7),(8,3,6)])\n",
    "print(A)\n",
    "print(np.unique(A))\n",
    "print()\n",
    "\n",
    "B = A[1:,1:]\n",
    "print('B=',B)\n",
    "print()\n",
    "\n",
    "\n",
    "#Initially I wanted to look for min but we will see that np.unique allows us to find each value of interest in B :)\n",
    "    #Id_init = np.unique(B)\n",
    "    #print(Id_init)\n",
    "    #print(B.min())\n",
    "    #print(np.argmin(B))\n",
    "    #print(np.amin(B))\n",
    "\n",
    "\n",
    "#Best solution turns out to be np.where function\n",
    "\n",
    "List = np.where(B == np.amin(B))\n",
    "print('List=',List)\n",
    "print(type(List))\n",
    "print()\n",
    "\n",
    "List_test_2 = np.where(B == np.unique(B))\n",
    "print('List=',List_test_2)\n",
    "print(type(List_test_2))\n",
    "print()\n",
    "\n",
    "ListOfCoordinates = list(zip(List[0], List[1]))\n",
    "print('ListOfCoordinates=',ListOfCoordinates)\n",
    "print(type(ListOfCoordinates))\n",
    "print()\n",
    "\n",
    "print('########################### FOR INFORMATION ###########################')\n",
    "###Conversion is useless we can use directly the ListOfCoordinates to extract the value of interest in B ###\n",
    "#We keep active those functions to show their nature\n",
    "ListArray = np.array(ListOfCoordinates)\n",
    "print('ListArray=',ListArray)\n",
    "print(type(ListArray))\n",
    "print()\n",
    "\n",
    "ListArray_row0 = ListArray[0]\n",
    "print('ListArray_row0=',ListArray_row0)\n",
    "print(type(ListArray_row0))\n",
    "print('ListArray_row0[0]=',ListArray_row0[0])\n",
    "print(type(ListArray_row0[0]))\n",
    "print()\n",
    "\n",
    "x = B [1]\n",
    "print('x=',x)\n",
    "print(type(x))\n",
    "print()\n",
    "\n",
    "y = B [1,1]\n",
    "print('y=',y)\n",
    "print(type(y))\n",
    "print()\n",
    "\n",
    "z = B[[1,1]]\n",
    "print('z=',z)\n",
    "print(type(z))\n",
    "print()\n",
    "\n",
    "\n",
    "print('#####################################################################')\n",
    "print()\n",
    "\n",
    "#THE ONLY USEFULE NOTATION IN THIS PROBLEM:\n",
    "w = B[(1,1)]\n",
    "print('w=',w)\n",
    "print(type(w))\n",
    "print()\n",
    "\n",
    "#C = B[:] #Initialize the target array. #CAUTION: With this instruction, every modification on C will be applied on B\n",
    "C = np.zeros((2,2), dtype=int)# Instead we prefer to initialize an empty array same size than B\n",
    "print('C=',C)\n",
    "C[ListOfCoordinates[0]] = 1 # = C[(0,0)] Voir la liste ListOfCoordinates\n",
    "C[ListOfCoordinates[1]] = 1 # = C[(1,0)] Voir la liste ListOfCoordinates\n",
    "\n",
    "print('C=',C)\n",
    "print('B=',B) \n",
    "\n"
   ]
  },
  {
   "cell_type": "code",
   "execution_count": 2,
   "metadata": {},
   "outputs": [
    {
     "name": "stdout",
     "output_type": "stream",
     "text": [
      "unique_id_list_B= [3 6 7]\n",
      "<class 'numpy.ndarray'>\n"
     ]
    }
   ],
   "source": [
    "print('unique_id_list_B=',np.unique(B))\n",
    "print(type(np.unique(B)))"
   ]
  },
  {
   "cell_type": "code",
   "execution_count": 3,
   "metadata": {},
   "outputs": [
    {
     "ename": "IndexError",
     "evalue": "index 3 is out of bounds for axis 0 with size 3",
     "output_type": "error",
     "traceback": [
      "\u001b[0;31m---------------------------------------------------------------------------\u001b[0m",
      "\u001b[0;31mIndexError\u001b[0m                                Traceback (most recent call last)",
      "\u001b[0;32m<ipython-input-3-9bf6347157b2>\u001b[0m in \u001b[0;36m<module>\u001b[0;34m\u001b[0m\n\u001b[1;32m     11\u001b[0m \u001b[0mB_unique_ID\u001b[0m \u001b[0;34m=\u001b[0m \u001b[0mnp\u001b[0m\u001b[0;34m.\u001b[0m\u001b[0munique\u001b[0m\u001b[0;34m(\u001b[0m\u001b[0mB\u001b[0m\u001b[0;34m)\u001b[0m\u001b[0;34m\u001b[0m\u001b[0;34m\u001b[0m\u001b[0m\n\u001b[1;32m     12\u001b[0m \u001b[0;32mfor\u001b[0m \u001b[0mi\u001b[0m \u001b[0;32min\u001b[0m \u001b[0mrange\u001b[0m\u001b[0;34m(\u001b[0m\u001b[0mlen\u001b[0m\u001b[0;34m(\u001b[0m\u001b[0mB_unique_ID\u001b[0m\u001b[0;34m)\u001b[0m\u001b[0;34m)\u001b[0m\u001b[0;34m:\u001b[0m\u001b[0;34m\u001b[0m\u001b[0;34m\u001b[0m\u001b[0m\n\u001b[0;32m---> 13\u001b[0;31m     \u001b[0mList_i\u001b[0m \u001b[0;34m=\u001b[0m \u001b[0mnp\u001b[0m\u001b[0;34m.\u001b[0m\u001b[0mwhere\u001b[0m\u001b[0;34m(\u001b[0m\u001b[0mB\u001b[0m \u001b[0;34m==\u001b[0m \u001b[0mB_unique_ID\u001b[0m\u001b[0;34m[\u001b[0m\u001b[0mi\u001b[0m\u001b[0;34m+\u001b[0m\u001b[0;36m1\u001b[0m\u001b[0;34m]\u001b[0m\u001b[0;34m)\u001b[0m\u001b[0;34m\u001b[0m\u001b[0;34m\u001b[0m\u001b[0m\n\u001b[0m\u001b[1;32m     14\u001b[0m     \u001b[0mListOfCoordinates_i\u001b[0m \u001b[0;34m=\u001b[0m \u001b[0mlist\u001b[0m\u001b[0;34m(\u001b[0m\u001b[0mzip\u001b[0m\u001b[0;34m(\u001b[0m\u001b[0mList_i\u001b[0m\u001b[0;34m[\u001b[0m\u001b[0;36m0\u001b[0m\u001b[0;34m]\u001b[0m\u001b[0;34m,\u001b[0m \u001b[0mList_i\u001b[0m\u001b[0;34m[\u001b[0m\u001b[0;36m1\u001b[0m\u001b[0;34m]\u001b[0m\u001b[0;34m)\u001b[0m\u001b[0;34m)\u001b[0m\u001b[0;34m\u001b[0m\u001b[0;34m\u001b[0m\u001b[0m\n\u001b[1;32m     15\u001b[0m     \u001b[0;31m#CAUTION (line below):\u001b[0m\u001b[0;34m\u001b[0m\u001b[0;34m\u001b[0m\u001b[0;34m\u001b[0m\u001b[0m\n",
      "\u001b[0;31mIndexError\u001b[0m: index 3 is out of bounds for axis 0 with size 3"
     ]
    }
   ],
   "source": [
    "#### METHOD-1 ####\n",
    "\n",
    "#RAPPEL A =[[1 2 4],[5 3 7],[8 3 6]]\n",
    "#RAPPEL B =[[3 7],[3 6]]\n",
    "\n",
    "#CAUTION: AVOID TO USE LOOPS AS MUCH AS POSSIBLE. Using loops you don't take advantage of the power of numpy! \n",
    "#Numpy computations are not optimized for loop operations!!\n",
    "\n",
    "\n",
    "D = np.zeros((2,2), dtype=int)\n",
    "B_unique_ID = np.unique(B)\n",
    "for i in range(len(B_unique_ID)):\n",
    "    List_i = np.where(B == B_unique_ID[i+1])\n",
    "    ListOfCoordinates_i = list(zip(List_i[0], List_i[1]))\n",
    "    #CAUTION (line below): \n",
    "        #If I have range(x) k will take values 0, 1, x-1 by default \n",
    "        #In this example first list generated ListOfCoordinates_i (i=0) has length 2 \n",
    "        #--> range(len(ListOfCoordinates_i)- 1) = 1 --> k will only take value 0 and never move on!! \n",
    "        #--> DON'T put \"-1\"\n",
    "    for k in range(len(ListOfCoordinates_i)): \n",
    "        #import pdb; pdb.set_trace() #Possibility to run debugger\n",
    "        D[ListOfCoordinates_i[k]] = i + 1\n",
    "print('New B=',D)\n",
    "    \n",
    "\n"
   ]
  },
  {
   "cell_type": "code",
   "execution_count": 6,
   "metadata": {},
   "outputs": [
    {
     "name": "stdout",
     "output_type": "stream",
     "text": [
      "[[1 3]\n",
      " [1 2]]\n"
     ]
    }
   ],
   "source": [
    "#### METHOD-2 ####\n",
    "\n",
    "#Using as much as possible the array properties\n",
    "\n",
    "E = np.zeros((2,2), dtype=int)\n",
    "B_unique_ID = np.unique(B) #RAPPEL: Array [3 6 7]\n",
    "Ngrains = len(np.unique(B)) #Length = 3\n",
    "for p in range (Ngrains):\n",
    "    Compare_Matrix = np.full((2,2),B_unique_ID[p]) #np.full creates a (2,2) matrix with constant value\n",
    "    E = E + np.where(B == Compare_Matrix,p+1,0) # \"==\" compares element by element each matrix (True or False)\n",
    "print(E)"
   ]
  },
  {
   "cell_type": "code",
   "execution_count": null,
   "metadata": {},
   "outputs": [],
   "source": [
    "import numpy as np\n",
    "np.where([[True, False], [True, True]],[[1, 2], [3, 4]],[[9, 8], [7, 6]])"
   ]
  },
  {
   "cell_type": "code",
   "execution_count": null,
   "metadata": {},
   "outputs": [],
   "source": [
    "np.full((2,2),10)"
   ]
  },
  {
   "cell_type": "code",
   "execution_count": null,
   "metadata": {},
   "outputs": [],
   "source": [
    "print(Ngrains)"
   ]
  },
  {
   "cell_type": "code",
   "execution_count": null,
   "metadata": {},
   "outputs": [],
   "source": []
  },
  {
   "cell_type": "code",
   "execution_count": null,
   "metadata": {},
   "outputs": [],
   "source": []
  },
  {
   "cell_type": "code",
   "execution_count": null,
   "metadata": {},
   "outputs": [],
   "source": []
  }
 ],
 "metadata": {
  "kernelspec": {
   "display_name": "Python 3",
   "language": "python",
   "name": "python3"
  },
  "language_info": {
   "codemirror_mode": {
    "name": "ipython",
    "version": 3
   },
   "file_extension": ".py",
   "mimetype": "text/x-python",
   "name": "python",
   "nbconvert_exporter": "python",
   "pygments_lexer": "ipython3",
   "version": "3.7.4"
  }
 },
 "nbformat": 4,
 "nbformat_minor": 2
}
