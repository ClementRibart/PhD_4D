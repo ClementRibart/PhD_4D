{
 "cells": [
  {
   "cell_type": "markdown",
   "metadata": {},
   "source": [
    "exercice to learn crystallography"
   ]
  },
  {
   "cell_type": "code",
   "execution_count": 53,
   "metadata": {},
   "outputs": [],
   "source": [
    "from pymicro.crystal.lattice import Lattice, HklPlane\n",
    "import numpy as np"
   ]
  },
  {
   "cell_type": "code",
   "execution_count": 54,
   "metadata": {},
   "outputs": [
    {
     "name": "stdout",
     "output_type": "stream",
     "text": [
      "[0.3306 0.3306 0.3306]\n"
     ]
    }
   ],
   "source": [
    "# create a BCC lattice\n",
    "a = 0.3306  # nm\n",
    "al = Lattice.body_centered_cubic(a)\n",
    "print(al._lengths)"
   ]
  },
  {
   "cell_type": "code",
   "execution_count": 55,
   "metadata": {},
   "outputs": [],
   "source": [
    "# create a (011) plane\n",
    "p = HklPlane(0, 1, 1, al)"
   ]
  },
  {
   "cell_type": "code",
   "execution_count": 56,
   "metadata": {},
   "outputs": [
    {
     "name": "stdout",
     "output_type": "stream",
     "text": [
      "\n",
      "Bragg angle for 011 at 30.0 keV is 5.1 deg\n",
      "\n"
     ]
    }
   ],
   "source": [
    "lambda_kev = 30\n",
    "theta = p.bragg_angle(lambda_kev, verbose=True)"
   ]
  },
  {
   "cell_type": "code",
   "execution_count": 57,
   "metadata": {},
   "outputs": [],
   "source": [
    "p.bragg_angle?"
   ]
  },
  {
   "cell_type": "code",
   "execution_count": 58,
   "metadata": {},
   "outputs": [],
   "source": [
    "phi1, Phi, phi2 = [103.517, 42.911, 266.452]"
   ]
  },
  {
   "cell_type": "code",
   "execution_count": 59,
   "metadata": {},
   "outputs": [
    {
     "name": "stdout",
     "output_type": "stream",
     "text": [
      "[[ 0.72522445  0.11069087 -0.67955649]\n",
      " [-0.18921622  0.98103102 -0.04213492]\n",
      " [ 0.66200205  0.15914039  0.7324122 ]]\n"
     ]
    }
   ],
   "source": [
    "from pymicro.crystal.microstructure import Orientation\n",
    "o = Orientation.from_euler([phi1, Phi, phi2])\n",
    "print(o.orientation_matrix())"
   ]
  },
  {
   "cell_type": "code",
   "execution_count": 60,
   "metadata": {},
   "outputs": [
    {
     "name": "stdout",
     "output_type": "stream",
     "text": [
      "\n",
      "Bragg angle for 011 at 30.0 keV is 5.1 deg\n",
      "\n",
      "A=1.430, B=-3.449, C=-0.378, Delta=55.2\n",
      "the two omega values in degrees fulfilling the Bragg condition are (196.7, 28.3)\n"
     ]
    },
    {
     "data": {
      "text/plain": [
       "(196.7093136157989, 28.334546898386765)"
      ]
     },
     "execution_count": 60,
     "metadata": {},
     "output_type": "execute_result"
    }
   ],
   "source": [
    "o.dct_omega_angles(p, lambda_kev, verbose=True)"
   ]
  },
  {
   "cell_type": "code",
   "execution_count": 61,
   "metadata": {},
   "outputs": [
    {
     "name": "stdout",
     "output_type": "stream",
     "text": [
      "\n",
      "Bragg angle for 0-1-1 at 30.0 keV is 5.1 deg\n",
      "\n",
      "A=-1.430, B=3.449, C=-0.378, Delta=55.2\n",
      "the two omega values in degrees fulfilling the Bragg condition are (16.7, 208.3)\n"
     ]
    },
    {
     "data": {
      "text/plain": [
       "(16.709313615798862, 208.33454689838678)"
      ]
     },
     "execution_count": 61,
     "metadata": {},
     "output_type": "execute_result"
    }
   ],
   "source": [
    "p2 = p.friedel_pair()\n",
    "o.dct_omega_angles(p2, lambda_kev, verbose=True)"
   ]
  },
  {
   "cell_type": "code",
   "execution_count": 66,
   "metadata": {},
   "outputs": [
    {
     "name": "stdout",
     "output_type": "stream",
     "text": [
      "[-0.05853293  0.39013905  0.08721607]\n"
     ]
    }
   ],
   "source": [
    "o_r = Orientation.Euler2Rodrigues([phi1, Phi, phi2])\n",
    "print(o_r)"
   ]
  },
  {
   "cell_type": "code",
   "execution_count": null,
   "metadata": {},
   "outputs": [],
   "source": []
  },
  {
   "cell_type": "code",
   "execution_count": null,
   "metadata": {},
   "outputs": [],
   "source": []
  }
 ],
 "metadata": {
  "kernelspec": {
   "display_name": "Python 3",
   "language": "python",
   "name": "python3"
  },
  "language_info": {
   "codemirror_mode": {
    "name": "ipython",
    "version": 3
   },
   "file_extension": ".py",
   "mimetype": "text/x-python",
   "name": "python",
   "nbconvert_exporter": "python",
   "pygments_lexer": "ipython3",
   "version": "3.7.4"
  }
 },
 "nbformat": 4,
 "nbformat_minor": 2
}
